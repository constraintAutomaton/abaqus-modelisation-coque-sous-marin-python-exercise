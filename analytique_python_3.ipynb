{
 "cells": [
  {
   "cell_type": "markdown",
   "metadata": {},
   "source": [
    "Il est suposer que la coque est un cylindre, d'un rayon de 16m avec un épaisseur de 1m"
   ]
  },
  {
   "cell_type": "code",
   "execution_count": 22,
   "metadata": {},
   "outputs": [],
   "source": [
    "import math\n",
    "from decimal import Decimal"
   ]
  },
  {
   "cell_type": "code",
   "execution_count": 29,
   "metadata": {},
   "outputs": [],
   "source": [
    "p = 12304.586*1000\n",
    "t=1\n",
    "r=16\n",
    "l =154"
   ]
  },
  {
   "cell_type": "code",
   "execution_count": 30,
   "metadata": {},
   "outputs": [],
   "source": [
    "sigmax = p*r/t"
   ]
  },
  {
   "cell_type": "code",
   "execution_count": 31,
   "metadata": {},
   "outputs": [],
   "source": [
    "sigmay=p*r/2*t"
   ]
  },
  {
   "cell_type": "code",
   "execution_count": 32,
   "metadata": {},
   "outputs": [
    {
     "name": "stdout",
     "output_type": "stream",
     "text": [
      "sigmax: 1.969E+08\n",
      "sigmay: 9.844E+07\n"
     ]
    }
   ],
   "source": [
    "print('sigmax: '+'%.3E' % Decimal(str(sigmax)))\n",
    "print('sigmay: '+'%.3E' % Decimal(str(sigmay)))"
   ]
  },
  {
   "cell_type": "code",
   "execution_count": 33,
   "metadata": {},
   "outputs": [
    {
     "name": "stdout",
     "output_type": "stream",
     "text": [
      "Von mises : 1.705E+08\n"
     ]
    }
   ],
   "source": [
    "von_mises = (1/math.sqrt(2))*((((sigmax-sigmay)**2)+(sigmay**2)+(sigmax**2))**(1/2))\n",
    "print('Von mises : '+'%.3E' % Decimal(str(von_mises)))\n"
   ]
  },
  {
   "cell_type": "code",
   "execution_count": 34,
   "metadata": {},
   "outputs": [
    {
     "name": "stdout",
     "output_type": "stream",
     "text": [
      "le déplacement radial du acier est de 0.013639787595584447 m et le déplacement longétudinal est de 0.5251318224300012 m\n",
      "le déplacement radial du titane est de 0.023971507197863704 m et le déplacement longétudinal est de 1.2625313410970858 m\n",
      "le déplacement radial du aluminum est de 0.039592997374700865 m et le déplacement longétudinal est de 2.012116126582298 m\n"
     ]
    }
   ],
   "source": [
    "materiaux = [['acier',200*10**9,0.25],['titane',113.8*10**9,0.342],['aluminum',68.9*10**9,0.33]]\n",
    "for materiau in materiaux:\n",
    "    delta_r = (von_mises/materiau[1])*r\n",
    "    delta_l = delta_r*materiau[2]*l\n",
    "    print('le déplacement radial du {} est de {} m et le déplacement longétudinal est de {} m'.format(materiau[0]\n",
    "                                                                                                      ,delta_r,delta_l))\n",
    "    "
   ]
  },
  {
   "cell_type": "code",
   "execution_count": null,
   "metadata": {},
   "outputs": [],
   "source": []
  }
 ],
 "metadata": {
  "kernelspec": {
   "display_name": "Python 3",
   "language": "python",
   "name": "python3"
  },
  "language_info": {
   "codemirror_mode": {
    "name": "ipython",
    "version": 3
   },
   "file_extension": ".py",
   "mimetype": "text/x-python",
   "name": "python",
   "nbconvert_exporter": "python",
   "pygments_lexer": "ipython3",
   "version": "3.6.5"
  }
 },
 "nbformat": 4,
 "nbformat_minor": 2
}
